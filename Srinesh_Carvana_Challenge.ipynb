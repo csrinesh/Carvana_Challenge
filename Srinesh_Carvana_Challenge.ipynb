{
  "cells": [
    {
      "metadata": {
        "_uuid": "8f2839f25d086af736a60e9eeb907d3b93b6e0e5",
        "_cell_guid": "b1076dfc-b9ad-4769-8c92-a6c4dae69d19",
        "trusted": true
      },
      "cell_type": "code",
      "source": "import numpy as np # linear algebra\nimport pandas as pd # data processing, CSV file I/O (e.g. pd.read_csv)\nfrom glob import glob # For pathname matching\nfrom skimage.transform import resize\nfrom keras import backend as K\nfrom sklearn.model_selection import train_test_split\nfrom keras.models import Sequential \nfrom keras.layers import Conv2D, MaxPool2D, UpSampling2D, Flatten, Dense\nfrom keras.callbacks import ModelCheckpoint,EarlyStopping\nfrom keras.optimizers import Adam\nimport cv2\n\nfrom PIL import Image\nfrom scipy import ndimage\nimport matplotlib.pyplot as plt\nfrom scipy.misc import imresize\n\nfrom time import time\nimport warnings\nwarnings.filterwarnings(\"ignore\", category=DeprecationWarning) \nfrom matplotlib.pyplot import rc\nfont = {'family' : 'monospace',\n        'weight' : 'bold',\n        'size'   : 12}\nrc('font', **font)  # pass in the font dict as kwargs\nK.set_image_dim_ordering('th')\n\nimport os\nfrom os.path import basename\nprint(os.listdir(\"../input\"))\nprint(os.listdir())\n\n# Any results you write to the current directory are saved as output.",
      "execution_count": null,
      "outputs": []
    },
    {
      "metadata": {
        "_cell_guid": "79c7e3d0-c299-4dcb-8224-4455121ee9b0",
        "_uuid": "d629ff2d2480ee46fbb7e2d37f6b5fab8052498a",
        "trusted": true
      },
      "cell_type": "code",
      "source": "input_folder = '../input'\n\ntrain= glob('/'.join([input_folder,'train/*.jpg']))\ntrain_masks= glob('/'.join([input_folder,'train_masks/*.gif']))\ntest= glob('/'.join([input_folder,'test/*.jpg']))\nprint('Number of training images: ', len(train), 'Number of corresponding masks: ', len(train_masks), 'Number of test images: ', len(test))",
      "execution_count": null,
      "outputs": []
    },
    {
      "metadata": {
        "trusted": true,
        "_uuid": "8e2333282af5900555e5f9b3a7c83833c3a4e318"
      },
      "cell_type": "code",
      "source": "tt_ratio = 0.8\nimg_rows, img_cols = 1024,1024\nbatch_size = 4\ndef dice_coef(y_true, y_pred, smooth=0):\n    y_true_f = K.flatten(y_true)\n    y_pred_f = K.flatten(y_pred)\n    intersection=K.sum(y_true_f * y_pred_f)\n    return(2. * intersection + smooth) / ((K.sum(y_true_f) + K.sum(y_pred_f)) + smooth)",
      "execution_count": null,
      "outputs": []
    },
    {
      "metadata": {
        "trusted": true,
        "_uuid": "531d58c84515a4cddc5679a989e9ccac44072972"
      },
      "cell_type": "code",
      "source": "#split the training set into train and validation samples\ntrain_images, validation_images = train_test_split(train, train_size=tt_ratio, test_size=1-tt_ratio)\nprint('Size of the training sample=', len(train_images), 'and size of the validation sample=', len(validation_images), ' images')\n",
      "execution_count": null,
      "outputs": []
    },
    {
      "metadata": {
        "trusted": true,
        "_uuid": "e03c7299b64e23994c874e5f361e0190727b1e77"
      },
      "cell_type": "code",
      "source": "#utility function to convert greyscale inages to rgb\ndef grey2rgb(img):\n    new_img = []\n    for i in range(img.shape[0]):\n        for j in range(img.shape[1]):\n            new_img.append(list(img[i][j])*3)\n    new_img = np.array(new_img).reshape(img.shape[0], img.shape[1], 3)\n    return new_img\n\n#generator that will be used to read data from the directory\ndef data_generator(data_dir, masks, images, dims, batch_size=batch_size):\n    while True:\n        ix=np.random.choice(np.arange(len(images)), batch_size)\n        imgs = []\n        labels = []\n        for i in ix:\n            # images\n            original_img = cv2.imread(images[i])\n            resized_img = imresize(original_img, dims + [3]) \n            array_img = resized_img/255\n            array_img = array_img.swapaxes(0, 2)\n            imgs.append(array_img)\n            #imgs is a numpy array with dim: (batch size X 128 X 128 3)\n            #print('shape of imgs ', array_img.shape)\n            # masks\n            try:\n                mask_filename = basename(images[i])\n                file_name = os.path.splitext(mask_filename)[0]\n                correct_mask = '/'.join([input_folder,'train_masks',file_name+'_mask.gif'])\n                original_mask = Image.open(correct_mask).convert('L')\n                data = np.asarray(original_mask, dtype=\"int32\")\n                resized_mask = imresize(original_mask, dims+[3])\n                array_mask = resized_mask / 255\n                labels.append(array_mask)\n            except Exception as e:\n                labels=None\n            \n        imgs = np.array(imgs)\n        labels = np.array(labels)\n        try:\n            relabel = labels.reshape(-1, dims[0], dims[1], 1)\n            relabel = relabel.swapaxes(1, 3)\n        except Exception as e:\n            relabel=labels\n        yield imgs, relabel",
      "execution_count": null,
      "outputs": []
    },
    {
      "metadata": {
        "_kg_hide-input": false,
        "trusted": true,
        "_uuid": "474d9db54a8b8c5a232852d92f5c0f6d4f599727"
      },
      "cell_type": "code",
      "source": "train_gen = data_generator('train/', train_masks, train_images, dims=[img_rows, img_cols])\nimg, msk = next(train_gen)\ntrain_img = img[0].swapaxes(0,2)\ntrain_msk = msk.swapaxes(1,3)\n\nfig, ax = plt.subplots(1,2, figsize=(16, 16))\nax = ax.ravel()\nax[0].imshow(train_img, cmap='gray') \nax[0].set_title('Training Image')\nax[1].imshow(grey2rgb(train_msk[0]), cmap='gray')\nax[1].set_title('Training Image mask')",
      "execution_count": null,
      "outputs": []
    },
    {
      "metadata": {
        "trusted": true,
        "_uuid": "fc4cea2700e2ee06acb154c36c6e0278b0e184c3"
      },
      "cell_type": "code",
      "source": "# create an instance of a validation generator:\nvalidation_gen = data_generator('train/', train_masks, validation_images, dims=[img_rows, img_cols]) \n",
      "execution_count": null,
      "outputs": []
    },
    {
      "metadata": {
        "trusted": true,
        "_uuid": "3e4bafbd036adfbc4589c01adc4fab70cf89039c"
      },
      "cell_type": "code",
      "source": "def build_model():\n    model = Sequential()\n    \n    model.add(Conv2D(16, (3,3), input_shape = (3, img_rows, img_cols), padding=\"same\",activation = 'relu'))\n    model.add(MaxPool2D(pool_size=(2,2), data_format=\"channels_first\"))\n    \n    model.add(Conv2D(32, (3,3), padding=\"same\",activation = 'relu'))\n    model.add(MaxPool2D(pool_size=(2,2), data_format=\"channels_first\"))\n    \n    model.add(Conv2D(64, (3,3), padding=\"same\",activation = 'relu'))\n    model.add(MaxPool2D(pool_size=(2,2), data_format=\"channels_first\"))\n    \n    model.add(Conv2D(128, (3,3), padding=\"same\",activation = 'relu'))\n    model.add(MaxPool2D(pool_size=(2,2), data_format=\"channels_first\"))\n    \n    model.add(Conv2D(256, (3,3), padding=\"same\",activation = 'relu'))\n    model.add(MaxPool2D(pool_size=(2,2), data_format=\"channels_first\"))\n    \n    model.add(Conv2D(512, (3,3), padding=\"same\",activation = 'relu'))\n    \n    model.add(UpSampling2D(size=(2,2), data_format=None, interpolation='nearest'))\n    model.add(Conv2D(256, (3,3), padding=\"same\",activation = 'relu'))\n    \n    model.add(UpSampling2D(size=(2, 2), data_format=None, interpolation='nearest'))\n    model.add(Conv2D(128, (3,3), padding=\"same\",activation = 'relu'))\n    \n    model.add(UpSampling2D(size=(2, 2), data_format=None, interpolation='nearest'))\n    model.add(Conv2D(64, (3,3), padding=\"same\",activation = 'relu'))\n    \n    model.add(UpSampling2D(size=(2, 2), data_format=None, interpolation='nearest'))\n    model.add(Conv2D(32, (3,3), padding=\"same\",activation = 'relu'))\n    \n    model.add(UpSampling2D(size=(2, 2), data_format=None, interpolation='nearest'))\n    model.add(Conv2D(16, (3,3), padding=\"same\",activation = 'relu'))\n    \n    model.add(Conv2D(1, (1,1), activation = 'sigmoid'))\n    #model.add(Flatten())\n    \n    #model.add(Dense(4, activation='relu'))\n    #model.add(Dense(units= img_cols*img_rows*2, activation = 'sigmoid'))\n    \n    model.compile(optimizer= Adam(lr=0.001), loss='binary_crossentropy', metrics=[dice_coef])\n    \n    return model",
      "execution_count": null,
      "outputs": []
    },
    {
      "metadata": {
        "trusted": true,
        "_uuid": "fc9c2011201c43bcd2beb30aa75f5e1c983bed92"
      },
      "cell_type": "code",
      "source": "# Build and compile the model\nmodel = build_model()\nmodel.summary()",
      "execution_count": null,
      "outputs": []
    },
    {
      "metadata": {
        "trusted": true,
        "_uuid": "63a3bd4cd0ce4ac55b15b536f8f195540e2d99be"
      },
      "cell_type": "code",
      "source": "# Fit the model to the training set and compute dice coefficient at each validation set\n\nsave_model = ModelCheckpoint('Best_model.h5', monitor='dice_coef', verbose=0, save_best_only=True)\nmodel_run = model.fit_generator(train_gen, steps_per_epoch=50, epochs=40, validation_data=validation_gen, validation_steps=50, callbacks=[save_model])\n",
      "execution_count": null,
      "outputs": []
    },
    {
      "metadata": {
        "trusted": true,
        "_uuid": "12dd76495244e402c32cf30dfbe926b366402f3c"
      },
      "cell_type": "code",
      "source": "#pd.DataFrame(model_run.history)[['dice_coef','val_dice_coef']].plot()",
      "execution_count": null,
      "outputs": []
    },
    {
      "metadata": {
        "trusted": true,
        "_uuid": "f01dc3e83484c556079a5ee4cc4225f134a8ad99"
      },
      "cell_type": "code",
      "source": "from keras.models import load_model\nmodel1 = load_model('Best_model.h5')\n\nimg, msk = next(validation_gen)\npredicted_mask = model.predict(img).swapaxes(1,3)\nvalidation_image = img[0].swapaxes(0,2)\n\nfig, ax = plt.subplots(1,2, figsize=(16, 16))\nax = ax.ravel()\nax[0].imshow(validation_image, cmap='gray') \nax[0].set_title('Validation Image')\nax[1].imshow(grey2rgb(predicted_mask[0]), cmap='gray')\nax[1].set_title('Validation Image mask')",
      "execution_count": null,
      "outputs": []
    },
    {
      "metadata": {
        "trusted": true,
        "_uuid": "935366381e8278e70cf56a2aaf34e172693d3332"
      },
      "cell_type": "code",
      "source": "test_set = data_generator('test/', train_masks, test, dims=[img_rows, img_cols]) \nimg_tst, msk_tst = next(test_set)\npredicted_mask_tst = model.predict(img_tst)\npredicted_mask_tst = predicted_mask_tst.swapaxes(1,3)\ntest_mask = grey2rgb(predicted_mask_tst[0])\n\ntest_image = img_tst[0].swapaxes(0,2)\n\nfig, ax = plt.subplots(1,2, figsize=(16, 16))\nax = ax.ravel()\nax[0].imshow(test_image, cmap='gray') \nax[0].set_title('Test Image')\nax[1].imshow(test_mask, cmap='gray')\nax[1].set_title('Test Image mask')",
      "execution_count": null,
      "outputs": []
    },
    {
      "metadata": {
        "trusted": true,
        "_uuid": "c1aed84ace6e3c25bdee4c3c9bcac8a6f86dd541"
      },
      "cell_type": "code",
      "source": "# Creating the submission file\nfrom tqdm import tqdm_notebook\nprint(os.listdir())\n\ndef rle_encode(img):\n    vector = img.flatten()\n    vector = [0] + vector + [0]\n    runs = np.where(vector[1:] != vector[:-1])[0] + 1\n    runs[1::2] -= runs[::2]\n    return ' '.join(str(x) for x in runs)\n\nmask_list = []\ndef test_predict_mask(images):\n    dims = [img_rows, img_cols]\n    for i in tqdm_notebook(range(20000)):\n        original_img = cv2.imread(images[i])\n        resized_img = imresize(original_img, dims + [3]) \n        array_img = resized_img/255\n        array_img = array_img.swapaxes(0, 2)\n        array_img = np.array([array_img]*batch_size)\n        \n        predicted_mask = model.predict(array_img).swapaxes(1,3)\n        \n        predicted_mask[predicted_mask>0.5]=1\n        predicted_mask[predicted_mask<=0.5]=0\n        mask=rle_encode(predicted_mask)\n        \n        file_name = images[i].split('/')[-1]\n        mask_list.append([file_name, mask])\n    mask_df = pd.DataFrame(mask_list, columns=['img','rle_mask'])    \n    return mask_df",
      "execution_count": null,
      "outputs": []
    },
    {
      "metadata": {
        "trusted": true,
        "_uuid": "f89998805f436779bd2dc08603f9e82d3dee7c3d"
      },
      "cell_type": "code",
      "source": "# Creating the submission file\nmask = test_predict_mask(test)\nprint(mask)\nmask.to_csv('Submission_csv.csv', index=False)",
      "execution_count": 15,
      "outputs": [
        {
          "output_type": "display_data",
          "data": {
            "text/plain": "HBox(children=(IntProgress(value=0, max=1000), HTML(value='')))",
            "application/vnd.jupyter.widget-view+json": {
              "version_major": 2,
              "version_minor": 0,
              "model_id": "d4f82782882a46bdb8fc88e6adbac4c7"
            }
          },
          "metadata": {}
        },
        {
          "output_type": "stream",
          "text": "\n                      img                                           rle_mask\n0     05aad5f1ce32_16.jpg  262575 2 263578 35 264596 66 265607 171 266625...\n1     3f71f4e7a56f_11.jpg  336297 31 337304 99 338323 121 339340 138 3403...\n2     41902e49c45d_10.jpg  186751 3 187773 10 188796 14 189818 19 190839 ...\n3     1b8d5b1e8f16_13.jpg  403858 23 404873 44 405891 60 406911 73 407933...\n4     a93fe16fe9d3_13.jpg  279997 34 280984 82 281994 108 283012 120 2840...\n5     4ddedccf4439_14.jpg  281982 4 283002 16 284023 23 285045 30 286066 ...\n6     0092275fcc63_08.jpg  301583 40 302600 62 303620 75 304621 112 30563...\n7     e36b6abe0d79_12.jpg  399795 44 400805 90 401822 105 402837 121 4038...\n8     eff68da50257_07.jpg  301615 28 302614 69 303630 89 304644 114 30566...\n9     88d8f9610cff_02.jpg  299535 43 300538 81 301553 98 302561 124 30357...\n10    8ae1ca908479_11.jpg  421337 24 422335 68 423349 87 424364 105 42537...\n11    4e2a517b0eaa_08.jpg  166525 4 167551 2 168570 8 169594 8 170619 7 1...\n12    ab17eb738b44_01.jpg  263662 31 264666 60 265675 90 266691 107 26770...\n13    38aff4f64e7e_06.jpg  406030 16 407038 46 408055 60 409070 82 410091...\n14    e7c3c195b6d9_11.jpg  372117 37 373109 97 374127 118 375144 133 3761...\n15    336bedff29d0_03.jpg  297487 56 298492 89 299508 103 300525 118 3015...\n16    8df6276019d8_08.jpg  321998 31 322055 17 323002 121 324022 133 3250...\n17    df1e6e99d31a_13.jpg  215460 9 215470 2 216468 74 217485 90 218503 1...\n18    1097e14ed1fa_15.jpg  341399 17 342413 33 343413 66 344431 75 345443...\n19    d6ed99d0c50b_13.jpg  193823 4 193839 38 194837 86 195851 170 196874...\n20    795f41319063_04.jpg  325277 5 326214 105 327212 147 328231 163 3292...\n21    86c93d3e9164_04.jpg  344603 8 345610 58 346628 76 347644 97 348664 ...\n22    7ecbf073eadf_13.jpg  322823 6 323838 29 324858 52 325878 66 326898 ...\n23    9f21f399b0d9_11.jpg  257431 17 258451 27 259469 39 260486 52 261496...\n24    c4aa66401bbe_15.jpg  371055 22 372068 53 373086 88 374106 124 37512...\n25    adbd1752cb09_13.jpg  224590 23 224655 54 225607 50 225665 77 226627...\n26    1c9f83965892_11.jpg  374170 30 375188 58 376205 93 377227 107 37824...\n27    4ecf1d20c5cd_14.jpg  364982 15 365992 41 367005 59 368020 84 369038...\n28    9b5ce8289162_06.jpg  376378 15 377373 64 378381 113 379398 126 3804...\n29    437b34407f5d_12.jpg  438655 36 439676 43 440697 52 441717 70 442740...\n...                   ...                                                ...\n1970  5460f917b88b_07.jpg  401937 29 402947 74 403962 103 404979 123 4059...\n1971  699af29172d4_03.jpg  398866 58 399877 82 400885 111 401902 125 4029...\n1972  6ff4bbcf5088_15.jpg  316911 25 317921 49 318910 93 319910 125 32092...\n1973  72d917cb418b_09.jpg  388587 39 389591 82 390603 109 391617 130 3926...\n1974  ed9414af4105_04.jpg  304654 93 305668 115 306681 139 307700 152 308...\n1975  0b73517ef85b_09.jpg  205190 37 206203 64 206381 9 207223 133 207390...\n1976  66c655490a2e_14.jpg  360841 21 361845 76 362861 96 363870 126 36488...\n1977  abbe25efa64f_02.jpg  376314 12 377334 25 378349 48 379370 59 380389...\n1978  2d1d577ba684_13.jpg  371969 20 372991 56 374014 70 375036 89 375138...\n1979  20c479035a39_05.jpg  178681 11 179676 59 180698 62 181705 85 182725...\n1980  98ca64cb52fc_09.jpg  312788 88 313790 119 314806 140 315825 149 316...\n1981  70971a15df7d_14.jpg  372201 15 373187 68 374199 87 375215 100 37622...\n1982  6807069f6500_01.jpg  403957 32 404969 51 405985 64 406999 77 408013...\n1983  0e71c11be4c6_01.jpg  298451 66 299461 90 300475 106 301494 115 3025...\n1984  4bc557f416e7_09.jpg  280054 14 281073 24 282089 43 283105 61 284123...\n1985  1e6d955618f0_15.jpg  403881 30 403953 35 404892 126 405911 136 4069...\n1986  b1eda604e6a5_05.jpg  306730 73 307742 92 308759 106 309779 115 3107...\n1987  6f5bdc70b97b_05.jpg  344651 28 345654 71 346671 90 347686 116 34786...\n1988  6569c78d6814_03.jpg  259558 53 260563 99 261571 138 262591 145 2636...\n1989  fc3bfc18bf9a_14.jpg  406935 14 407951 36 408969 80 409991 100 41100...\n1990  1ff68f0d8005_14.jpg  394614 17 395632 29 396646 47 397663 59 398685...\n1991  0e53d61f576f_16.jpg  317935 6 318865 38 318921 64 319867 148 320883...\n1992  c5058ed60e19_14.jpg  301462 23 302473 110 303491 132 304508 147 305...\n1993  393e701b31be_10.jpg  353688 38 353761 42 354703 136 355718 159 3567...\n1994  cae6ddf8832c_01.jpg  383447 52 384452 93 385468 111 386486 127 3875...\n1995  c6668841a0fa_14.jpg  441764 36 442783 45 443790 72 444778 115 44578...\n1996  fd5a2ecc0897_01.jpg  313828 45 314818 100 315829 122 316847 138 317...\n1997  bd9c5bfdf622_13.jpg  284926 4 285924 45 286937 59 287947 78 288965 ...\n1998  ad294b8d5363_03.jpg  294406 76 295420 94 296381 172 297393 190 2984...\n1999  188e40b7be86_04.jpg  394750 28 395762 57 396765 93 397770 127 39878...\n\n[2000 rows x 2 columns]\n",
          "name": "stdout"
        }
      ]
    },
    {
      "metadata": {
        "trusted": true,
        "_uuid": "ef51b8b9220ba5c522d2fe6e289e2f3c82a6a517"
      },
      "cell_type": "code",
      "source": "",
      "execution_count": null,
      "outputs": []
    }
  ],
  "metadata": {
    "kernelspec": {
      "display_name": "Python 3",
      "language": "python",
      "name": "python3"
    },
    "language_info": {
      "name": "python",
      "version": "3.6.6",
      "mimetype": "text/x-python",
      "codemirror_mode": {
        "name": "ipython",
        "version": 3
      },
      "pygments_lexer": "ipython3",
      "nbconvert_exporter": "python",
      "file_extension": ".py"
    }
  },
  "nbformat": 4,
  "nbformat_minor": 1
}